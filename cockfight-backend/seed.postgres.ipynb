{
 "cells": [
  {
   "cell_type": "code",
   "execution_count": 1,
   "metadata": {},
   "outputs": [],
   "source": [
    "import random\n",
    "import psycopg2\n",
    "import string\n",
    "from faker import Faker\n",
    "from psycopg2.extras import execute_values"
   ]
  },
  {
   "cell_type": "code",
   "execution_count": 78,
   "metadata": {},
   "outputs": [],
   "source": [
    "\n",
    "\n",
    "# print(values)\n",
    "# # Connect to the PostgreSQL database\n",
    "\n"
   ]
  },
  {
   "cell_type": "code",
   "execution_count": 2,
   "metadata": {},
   "outputs": [],
   "source": [
    "conn = psycopg2.connect(\n",
    "    host=\"containers-us-west-25.railway.app\",\n",
    "    port=\"7582\",\n",
    "    database=\"railway\",\n",
    "    user=\"postgres\",\n",
    "    password=\"hxB7oDUyBZs9xsuwgIIj\"\n",
    ")"
   ]
  },
  {
   "cell_type": "code",
   "execution_count": 79,
   "metadata": {},
   "outputs": [],
   "source": [
    "# Define the possible values for the SpamType and CASE enums\n",
    "SPAM_TYPE_VALUES = ['Mobile', 'Sms']\n",
    "CASE_VALUES = ['Spam', 'Fraud']\n",
    "SOMETEXT = [\n",
    "    'a phishing scam aimed at stealing your personal information.',\n",
    "    'suspected to be spam.',\n",
    "    'suspected to be a scam for loan laundering.',\n",
    "    'a common tactic used by scammers to trick people into providing personal and financial information.',\n",
    "    'phishing scam designed to steal your personal and financial information.'\n",
    "]\n",
    "\n",
    "# Generate 1000 random mobile phone numbers\n",
    "items = ['9' + ''.join(random.choice('0123456789')\n",
    "                       for _ in range(9)) for _ in range(3000)]\n",
    "# print(items)\n",
    "# Generate the values to insert into the PreDB table\n",
    "values = [(item, random.choice(SPAM_TYPE_VALUES), random.choice(\n",
    "    CASE_VALUES), random.choice(SOMETEXT)) for item in items]"
   ]
  },
  {
   "cell_type": "code",
   "execution_count": 80,
   "metadata": {},
   "outputs": [
    {
     "name": "stdout",
     "output_type": "stream",
     "text": [
      "ADDEDD 3000 records to database successfully\n"
     ]
    }
   ],
   "source": [
    "# Open a cursor to perform database operations\n",
    "\n",
    "\n",
    "\n",
    "\n",
    "cur = conn.cursor()\n",
    "\n",
    "# Define the SQL INSERT statement\n",
    "insert_statement = \"\"\"\n",
    "    INSERT INTO Predb (Item, Type, CaseType, Context)\n",
    "    VALUES (%s, %s, %s, %s)\n",
    "\"\"\"\n",
    "\n",
    "\n",
    "# Execute the SQL INSERT statement with the values to insert\n",
    "cur.executemany(insert_statement, values)\n",
    "\n",
    "print(f\"ADDEDD {len(values) } records to database successfully\")\n",
    "# Commit the transaction to the database\n",
    "conn.commit()\n",
    "\n",
    "# Close the cursor and connection\n",
    "cur.close()\n",
    "conn.close()\n"
   ]
  },
  {
   "cell_type": "code",
   "execution_count": 3,
   "metadata": {},
   "outputs": [],
   "source": [
    "spam_types = [\"Mobile\", \"SmsHeader\", \"Btcaddr\", \"Upiaddr\", \"Bankacc\", \"Url\"]\n",
    "case_types = [\"Spam\", \"Fraud\"]\n",
    "\n",
    "# Define a function to generate a random Indian mobile number starting with \"9\"\n",
    "def generate_mobile_number():\n",
    "    return f\"9{random.randint(1000000000, 9999999999)}\"\n",
    "\n",
    "# Define a function to generate a random value for the `item` field based on the `SpamType` enum\n",
    "def generate_item(spam_type):\n",
    "    if spam_type == \"Mobile\":\n",
    "        return generate_mobile_number()\n",
    "    elif spam_type == \"SmsHeader\":\n",
    "        return f\"SMS {random.randint(10000000, 99999999)}\"\n",
    "    elif spam_type == \"Btcaddr\":\n",
    "        return f\"bc1{random.randint(1000, 9999)}{random.randint(1000, 9999)}{random.randint(100, 999)}{random.randint(100, 999)}\"\n",
    "    elif spam_type == \"Upiaddr\":\n",
    "        return f\"upi.{random.randint(1000000000, 9999999999)}@example.com\"\n",
    "    elif spam_type == \"Bankacc\":\n",
    "        return f\"{random.randint(100000000000, 999999999999)}\"\n",
    "    elif spam_type == \"Url\":\n",
    "        return f\"http://www.example.com/{random.randint(1000000, 999999999)}\"\n",
    "    else:\n",
    "        return f\"{spam_type} {random.randint(1000, 9999)}\"\n",
    "\n",
    "# Generate a list of tuples containing random data for each row\n",
    "rows = []\n",
    "for i in range(1, 301):  # generate 100 rows\n",
    "    spam_type = random.choice(spam_types)\n",
    "    item = generate_item(spam_type)\n",
    "    casetype = random.choice(case_types)\n",
    "    context = f\"Field is suspected to be {casetype.lower()}\"\n",
    "    rows.append(( item, spam_type, casetype, context))"
   ]
  },
  {
   "cell_type": "code",
   "execution_count": 4,
   "metadata": {},
   "outputs": [
    {
     "name": "stdout",
     "output_type": "stream",
     "text": [
      "ADDEDD 300 records to database successfully\n"
     ]
    }
   ],
   "source": [
    "query = \"\"\"\n",
    "    INSERT INTO Predb (Item, Type, CaseType, Context)\n",
    "    VALUES (%s, %s, %s, %s)\n",
    "\"\"\"\n",
    "cur = conn.cursor()\n",
    "cur.executemany(query, rows)\n",
    "\n",
    "print(f\"ADDEDD {len(rows) } records to database successfully\")\n",
    "\n",
    "# Commit the changes and close the connection\n",
    "conn.commit()\n",
    "cur.close()\n",
    "conn.close()\n"
   ]
  },
  {
   "cell_type": "code",
   "execution_count": 2,
   "metadata": {},
   "outputs": [
    {
     "name": "stdout",
     "output_type": "stream",
     "text": [
      "Hacking Nasa 10%\n",
      "Hacking Nasa 20%\n",
      "Hacking Nasa 30%\n",
      "Hacking Nasa 40%\n",
      "Hacking Nasa 50%\n",
      "Hacking Nasa 60%\n",
      "Hacking Nasa 70%\n",
      "Hacking Nasa 80%\n",
      "Hacking Nasa 90%\n",
      "Hacking Nasa 100%\n",
      "Access Granted\n"
     ]
    }
   ],
   "source": [
    "from time import sleep\n",
    "for i in range(1 , 11):\n",
    "    print(f\"Hacking Nasa {i}0%\")\n",
    "    sleep(3)\n",
    "print(\"Access Granted\")"
   ]
  },
  {
   "cell_type": "code",
   "execution_count": 3,
   "metadata": {},
   "outputs": [],
   "source": [
    "import random\n",
    "import psycopg2\n",
    "\n",
    "# Connect to database\n",
    "conn = psycopg2.connect(\n",
    "    host=\"containers-us-west-25.railway.app\",\n",
    "    port=\"7582\",\n",
    "    database=\"railway\",\n",
    "    user=\"postgres\",\n",
    "    password=\"hxB7oDUyBZs9xsuwgIIj\"\n",
    ")\n",
    "\n",
    "# Open a cursor to perform database operations\n",
    "cur = conn.cursor()\n",
    "from datetime import datetime\n",
    "\n",
    "# Generate random users and items\n",
    "for i in range(10):  # Change to the number of users you want to generate\n",
    "    # Generate random username and password\n",
    "    username = ''.join(random.choices('abcdefghijklmnopqrstuvwxyz', k=10))\n",
    "    password = ''.join(random.choices('abcdefghijklmnopqrstuvwxyz', k=10))\n",
    "    # Generate random phnum\n",
    "    phnum = '9' + ''.join(random.choices('0123456789', k=9))\n",
    "    # Generate random userverifed\n",
    "    userverifed = random.choice([True, False])\n",
    "    # Insert user into database\n",
    "    cur.execute(f\"INSERT INTO usertable (updatedAt ,username, password, phnum, userverifed) VALUES ('{datetime.now().strftime('%Y-%m-%d %H:%M:%S')}' ,  '{username}', '{password}', '{phnum}', {userverifed})\")\n",
    "    # Generate random items for this user\n",
    "    for j in range(5):  # Change to the number of items you want to generate for each user\n",
    "        # Generate random item and interactions\n",
    "        item = ''\n",
    "        if random.choice([True, False]):\n",
    "            item = '09' + ''.join(random.choices('0123456789', k=8))\n",
    "            item_type = 'Mobile'\n",
    "        else:\n",
    "            item = ''.join(random.choices('abcdefghijklmnopqrstuvwxyz', k=5)).upper()\n",
    "            item_type = 'Sms'\n",
    "        interactions = random.randint(1, 100)\n",
    "        # Insert item into database and establish many-to-many relationship\n",
    "        cur.execute(f\"INSERT INTO items (item, type, interactions) VALUES ('{item}', '{item_type}', {interactions}) RETURNING id\")\n",
    "        # item_id = cur.fetchone()[0]\n",
    "\n",
    "# Commit changes\n",
    "\n",
    "\n",
    "conn.commit()\n",
    "\n",
    "# close cursor \n",
    "cur.close()\n",
    "\n",
    "# close connection \n",
    "conn.close()\n"
   ]
  },
  {
   "cell_type": "code",
   "execution_count": 12,
   "metadata": {},
   "outputs": [
    {
     "name": "stdout",
     "output_type": "stream",
     "text": [
      "Bitcoin Addresses: ['1A1zP1eP5QGefi2DMPTfTL5SLmv7DivfNa']\n",
      "Mobile Numbers: ['9876543210']\n",
      "UPI IDs: ['johnple.com@apl']\n",
      "URLs: ['https://example.com']\n"
     ]
    }
   ],
   "source": [
    "import re\n",
    "\n",
    "text = \"Please send 0.1 BTC to 1A1zP1eP5QGefi2DMPTfTL5SLmv7DivfNa using UPI ID johnple.com@apl and call 9876543210 to confirm the payment. You can also visit https://example.com for more information.\"\n",
    "\n",
    "# Regular expressions for Bitcoin addresses, Indian mobile numbers, UPI IDs, and URLs\n",
    "bitcoin_regex = r'\\b[13][a-km-zA-HJ-NP-Z0-9]{25,34}\\b'\n",
    "mobile_regex = r'\\b[6-9]\\d{9}\\b'\n",
    "upi_id_regex = r'\\b(?:[a-zA-Z0-9._%+-]+@(?:apl|abfspay|fbl|idfcbank|okaxis|okicici|axisbank|icici|yesbank|ibl|ybl))\\b'\n",
    "\n",
    "url_regex = r'\\b(?:https?://|www\\.)\\S+\\b'\n",
    "\n",
    "# Find all matches of the regular expressions in the text\n",
    "bitcoin_matches = re.findall(bitcoin_regex, text)\n",
    "mobile_matches = re.findall(mobile_regex, text)\n",
    "upi_matches = re.findall(upi_id_regex, text)\n",
    "url_matches = re.findall(url_regex, text)\n",
    "\n",
    "# Print the results\n",
    "print(\"Bitcoin Addresses:\", bitcoin_matches)\n",
    "print(\"Mobile Numbers:\", mobile_matches)\n",
    "print(\"UPI IDs:\", upi_matches)\n",
    "print(\"URLs:\", url_matches)\n"
   ]
  },
  {
   "cell_type": "code",
   "execution_count": 15,
   "metadata": {
    "vscode": {
     "languageId": "javascript"
    }
   },
   "outputs": [
    {
     "ename": "SyntaxError",
     "evalue": "invalid syntax (Temp/ipykernel_16428/2213411760.py, line 1)",
     "output_type": "error",
     "traceback": [
      "\u001b[1;36m  File \u001b[1;32m\"C:\\Users\\jayendra\\AppData\\Local\\Temp/ipykernel_16428/2213411760.py\"\u001b[1;36m, line \u001b[1;32m1\u001b[0m\n\u001b[1;33m    const text = \"Please send 0.1 BTC to 1A1zP1eP5QGefi2DMPTfTL5SLmv7DivfNa using UPI ID johnple.com@apl and call 9876543210 to confirm the payment. You can also visit https://example.com for more information.\";\u001b[0m\n\u001b[1;37m          ^\u001b[0m\n\u001b[1;31mSyntaxError\u001b[0m\u001b[1;31m:\u001b[0m invalid syntax\n"
     ]
    }
   ],
   "source": [
    "\n",
    "const text = \"Please send 0.1 BTC to 1A1zP1eP5QGefi2DMPTfTL5SLmv7DivfNa using UPI ID johnple.com@apl and call 9876543210 to confirm the payment. You can also visit https://example.com for more information.\";\n",
    "\n",
    "// Regular expressions for Bitcoin addresses, Indian mobile numbers, UPI IDs, and URLs\n",
    "const bitcoinRegex = /\\b[13][a-km-zA-HJ-NP-Z0-9]{25,34}\\b/;\n",
    "const mobileRegex = /\\b[6-9]\\d{9}\\b/;\n",
    "const upiIdRegex = /\\b(?:[a-zA-Z0-9._%+-]+@(?:apl|abfspay|fbl|idfcbank|okaxis|okicici|axisbank|icici|yesbank|ibl|ybl))\\b/;\n",
    "const urlRegex = /\\b(?:https?:\\/\\/|www\\.)\\S+\\b/;\n",
    "\n",
    "// Find all matches of the regular expressions in the text\n",
    "const bitcoinMatches = text.match(bitcoinRegex);\n",
    "const mobileMatches = text.match(mobileRegex);\n",
    "const upiMatches = text.match(upiIdRegex);\n",
    "const urlMatches = text.match(urlRegex);\n",
    "\n",
    "// Print the results\n",
    "console.log(\"Bitcoin Addresses:\", bitcoinMatches);\n",
    "console.log(\"Mobile Numbers:\", mobileMatches);\n",
    "console.log(\"UPI IDs:\", upiMatches);\n",
    "console.log(\"URLs:\", urlMatches);\n"
   ]
  },
  {
   "cell_type": "code",
   "execution_count": null,
   "metadata": {
    "vscode": {
     "languageId": "javascript"
    }
   },
   "outputs": [],
   "source": []
  }
 ],
 "metadata": {
  "kernelspec": {
   "display_name": "Python 3",
   "language": "python",
   "name": "python3"
  },
  "language_info": {
   "codemirror_mode": {
    "name": "ipython",
    "version": 3
   },
   "file_extension": ".py",
   "mimetype": "text/x-python",
   "name": "python",
   "nbconvert_exporter": "python",
   "pygments_lexer": "ipython3",
   "version": "3.9.1"
  },
  "orig_nbformat": 4
 },
 "nbformat": 4,
 "nbformat_minor": 2
}
